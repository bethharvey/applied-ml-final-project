{
 "cells": [
  {
   "cell_type": "markdown",
   "id": "a4e7c2d2-c759-4fd2-9360-e15d7ece3e3e",
   "metadata": {},
   "source": [
    "# Applied Machine Learning Final\n",
    "Beth Harvey\n",
    "\n",
    "April 25, 2023"
   ]
  },
  {
   "cell_type": "code",
   "execution_count": 1,
   "id": "c71ca731-5153-4bbe-8605-4e20c0c9d76f",
   "metadata": {},
   "outputs": [],
   "source": [
    "# Import modules\n",
    "import pandas as pd\n",
    "from sklearn.model_selection import train_test_split\n",
    "from sklearn.linear_model import LinearRegression\n",
    "from sklearn.metrics import mean_absolute_error\n",
    "from sklearn.metrics import mean_squared_error\n",
    "from sklearn.metrics import r2_score\n",
    "import numpy as np\n",
    "from sklearn.pipeline import Pipeline\n",
    "from sklearn.impute import SimpleImputer\n",
    "from sklearn.preprocessing import PolynomialFeatures\n",
    "from sklearn.preprocessing import StandardScaler\n",
    "from watermark import watermark"
   ]
  },
  {
   "cell_type": "code",
   "execution_count": 2,
   "id": "22f7364a-856a-47e3-93bf-2894add9dc10",
   "metadata": {},
   "outputs": [
    {
     "name": "stdout",
     "output_type": "stream",
     "text": [
      "Last updated: 2023-04-26T19:31:12.095607-05:00\n",
      "\n",
      "Python implementation: CPython\n",
      "Python version       : 3.9.12\n",
      "IPython version      : 8.2.0\n",
      "\n",
      "Compiler    : Clang 12.0.0 \n",
      "OS          : Darwin\n",
      "Release     : 22.4.0\n",
      "Machine     : x86_64\n",
      "Processor   : i386\n",
      "CPU cores   : 8\n",
      "Architecture: 64bit\n",
      "\n"
     ]
    }
   ],
   "source": [
    "# Document versions\n",
    "print(watermark())"
   ]
  },
  {
   "cell_type": "code",
   "execution_count": 3,
   "id": "c8827622-1c6c-441d-bbb2-c966b3cebef8",
   "metadata": {},
   "outputs": [],
   "source": [
    "# Load dataset as DataFrame\n",
    "df = pd.read_csv('auto-mpg.csv')"
   ]
  },
  {
   "cell_type": "code",
   "execution_count": 4,
   "id": "05c6a6ed-e0c6-4ab0-ae58-6e42640ea9d6",
   "metadata": {},
   "outputs": [
    {
     "data": {
      "text/html": [
       "<div>\n",
       "<style scoped>\n",
       "    .dataframe tbody tr th:only-of-type {\n",
       "        vertical-align: middle;\n",
       "    }\n",
       "\n",
       "    .dataframe tbody tr th {\n",
       "        vertical-align: top;\n",
       "    }\n",
       "\n",
       "    .dataframe thead th {\n",
       "        text-align: right;\n",
       "    }\n",
       "</style>\n",
       "<table border=\"1\" class=\"dataframe\">\n",
       "  <thead>\n",
       "    <tr style=\"text-align: right;\">\n",
       "      <th></th>\n",
       "      <th>mpg</th>\n",
       "      <th>cylinders</th>\n",
       "      <th>displacement</th>\n",
       "      <th>horsepower</th>\n",
       "      <th>weight</th>\n",
       "      <th>acceleration</th>\n",
       "      <th>model year</th>\n",
       "      <th>origin</th>\n",
       "      <th>car name</th>\n",
       "    </tr>\n",
       "  </thead>\n",
       "  <tbody>\n",
       "    <tr>\n",
       "      <th>0</th>\n",
       "      <td>18.0</td>\n",
       "      <td>8</td>\n",
       "      <td>307.0</td>\n",
       "      <td>130</td>\n",
       "      <td>3504</td>\n",
       "      <td>12.0</td>\n",
       "      <td>70</td>\n",
       "      <td>1</td>\n",
       "      <td>chevrolet chevelle malibu</td>\n",
       "    </tr>\n",
       "    <tr>\n",
       "      <th>1</th>\n",
       "      <td>15.0</td>\n",
       "      <td>8</td>\n",
       "      <td>350.0</td>\n",
       "      <td>165</td>\n",
       "      <td>3693</td>\n",
       "      <td>11.5</td>\n",
       "      <td>70</td>\n",
       "      <td>1</td>\n",
       "      <td>buick skylark 320</td>\n",
       "    </tr>\n",
       "    <tr>\n",
       "      <th>2</th>\n",
       "      <td>18.0</td>\n",
       "      <td>8</td>\n",
       "      <td>318.0</td>\n",
       "      <td>150</td>\n",
       "      <td>3436</td>\n",
       "      <td>11.0</td>\n",
       "      <td>70</td>\n",
       "      <td>1</td>\n",
       "      <td>plymouth satellite</td>\n",
       "    </tr>\n",
       "    <tr>\n",
       "      <th>3</th>\n",
       "      <td>16.0</td>\n",
       "      <td>8</td>\n",
       "      <td>304.0</td>\n",
       "      <td>150</td>\n",
       "      <td>3433</td>\n",
       "      <td>12.0</td>\n",
       "      <td>70</td>\n",
       "      <td>1</td>\n",
       "      <td>amc rebel sst</td>\n",
       "    </tr>\n",
       "    <tr>\n",
       "      <th>4</th>\n",
       "      <td>17.0</td>\n",
       "      <td>8</td>\n",
       "      <td>302.0</td>\n",
       "      <td>140</td>\n",
       "      <td>3449</td>\n",
       "      <td>10.5</td>\n",
       "      <td>70</td>\n",
       "      <td>1</td>\n",
       "      <td>ford torino</td>\n",
       "    </tr>\n",
       "  </tbody>\n",
       "</table>\n",
       "</div>"
      ],
      "text/plain": [
       "    mpg  cylinders  displacement horsepower  weight  acceleration  model year  \\\n",
       "0  18.0          8         307.0        130    3504          12.0          70   \n",
       "1  15.0          8         350.0        165    3693          11.5          70   \n",
       "2  18.0          8         318.0        150    3436          11.0          70   \n",
       "3  16.0          8         304.0        150    3433          12.0          70   \n",
       "4  17.0          8         302.0        140    3449          10.5          70   \n",
       "\n",
       "   origin                   car name  \n",
       "0       1  chevrolet chevelle malibu  \n",
       "1       1          buick skylark 320  \n",
       "2       1         plymouth satellite  \n",
       "3       1              amc rebel sst  \n",
       "4       1                ford torino  "
      ]
     },
     "execution_count": 4,
     "metadata": {},
     "output_type": "execute_result"
    }
   ],
   "source": [
    "# View data\n",
    "df.head()"
   ]
  },
  {
   "cell_type": "code",
   "execution_count": 5,
   "id": "1628fb04-e159-4ca7-9cf5-1622049309be",
   "metadata": {},
   "outputs": [
    {
     "name": "stdout",
     "output_type": "stream",
     "text": [
      "<class 'pandas.core.frame.DataFrame'>\n",
      "RangeIndex: 398 entries, 0 to 397\n",
      "Data columns (total 9 columns):\n",
      " #   Column        Non-Null Count  Dtype  \n",
      "---  ------        --------------  -----  \n",
      " 0   mpg           398 non-null    float64\n",
      " 1   cylinders     398 non-null    int64  \n",
      " 2   displacement  398 non-null    float64\n",
      " 3   horsepower    398 non-null    object \n",
      " 4   weight        398 non-null    int64  \n",
      " 5   acceleration  398 non-null    float64\n",
      " 6   model year    398 non-null    int64  \n",
      " 7   origin        398 non-null    int64  \n",
      " 8   car name      398 non-null    object \n",
      "dtypes: float64(3), int64(4), object(2)\n",
      "memory usage: 28.1+ KB\n"
     ]
    }
   ],
   "source": [
    "df.info()"
   ]
  },
  {
   "cell_type": "code",
   "execution_count": 13,
   "id": "7db350ab-6789-4227-ab4b-8bff1b7a0573",
   "metadata": {},
   "outputs": [
    {
     "name": "stdout",
     "output_type": "stream",
     "text": [
      "<class 'pandas.core.frame.DataFrame'>\n",
      "Int64Index: 392 entries, 0 to 397\n",
      "Data columns (total 9 columns):\n",
      " #   Column        Non-Null Count  Dtype  \n",
      "---  ------        --------------  -----  \n",
      " 0   mpg           392 non-null    float64\n",
      " 1   cylinders     392 non-null    int64  \n",
      " 2   displacement  392 non-null    float64\n",
      " 3   horsepower    392 non-null    float64\n",
      " 4   weight        392 non-null    int64  \n",
      " 5   acceleration  392 non-null    float64\n",
      " 6   model year    392 non-null    int64  \n",
      " 7   origin        392 non-null    int64  \n",
      " 8   car name      392 non-null    object \n",
      "dtypes: float64(4), int64(4), object(1)\n",
      "memory usage: 30.6+ KB\n"
     ]
    }
   ],
   "source": [
    "# Change horsepower data type, remove null values for linear regression\n",
    "df['horsepower'] = pd.to_numeric(df['horsepower'], errors = 'coerce')\n",
    "df2 = df.copy()\n",
    "df2.dropna(inplace = True)\n",
    "df2.info()"
   ]
  },
  {
   "cell_type": "markdown",
   "id": "c39180e9-dea9-4371-ae06-3fe4f47ff03a",
   "metadata": {},
   "source": [
    "### Select Features"
   ]
  },
  {
   "cell_type": "code",
   "execution_count": 7,
   "id": "bd383dd2-6eea-4848-a8f7-aa0bafbf2d68",
   "metadata": {},
   "outputs": [],
   "source": [
    "X = df2[['horsepower', 'weight']]\n",
    "y = df2['mpg']"
   ]
  },
  {
   "cell_type": "markdown",
   "id": "bbead860-e54b-43ec-8d5e-d899a68cc8f9",
   "metadata": {},
   "source": [
    "### Train Test Split"
   ]
  },
  {
   "cell_type": "code",
   "execution_count": 8,
   "id": "18b4e455-01e9-45f9-b2e7-deb095f0db11",
   "metadata": {},
   "outputs": [],
   "source": [
    "X_train, X_test, y_train, y_test = train_test_split(X, y, test_size = 0.2, random_state = 42)"
   ]
  },
  {
   "cell_type": "markdown",
   "id": "b46d519a-7037-4aa1-98a0-a637167dc79f",
   "metadata": {},
   "source": [
    "### Linear Regression Model"
   ]
  },
  {
   "cell_type": "code",
   "execution_count": 9,
   "id": "132d54e0-a2cb-4070-a4ca-8684731d513f",
   "metadata": {},
   "outputs": [
    {
     "name": "stdout",
     "output_type": "stream",
     "text": [
      "Linear Regression Model Training Performance\n",
      "Bias: 46.586741438997876\n",
      "Coefficients: [-0.05214672 -0.00587153]\n",
      "Score: 0.7149822041359517\n",
      "MAE: 3.234368596258616\n",
      "RMSE: 4.240819490930014\n",
      "MSE: 17.984549954651904\n",
      "R^2: 0.7149822041359517\n",
      "\n",
      "Linear Regression Model Test Performance\n",
      "MAE: 3.5056538974903217\n",
      "RMSE: 4.218029885247154\n",
      "MSE: 17.791776112838125\n",
      "R^2: 0.651419028085443\n"
     ]
    }
   ],
   "source": [
    "# Train model\n",
    "lr_model = LinearRegression()\n",
    "lr_model.fit(X_train, y_train)\n",
    "\n",
    "# Predict target\n",
    "y_train_pred = lr_model.predict(X_train)\n",
    "\n",
    "# Evaluate model performance on training data\n",
    "print('Linear Regression Model Training Performance')\n",
    "print('Bias:', lr_model.intercept_)\n",
    "print('Coefficients:', lr_model.coef_)\n",
    "print('Score:', lr_model.score(X_train, y_train))\n",
    "print('MAE:', mean_absolute_error(y_train, y_train_pred))\n",
    "print('RMSE:', np.sqrt(mean_squared_error(y_train, y_train_pred)))\n",
    "print('MSE:', mean_squared_error(y_train, y_train_pred))\n",
    "print('R^2:', r2_score(y_train, y_train_pred))\n",
    "print()\n",
    "\n",
    "# Evaluate model performance on test data\n",
    "y_test_pred = lr_model.predict(X_test)\n",
    "\n",
    "print('Linear Regression Model Test Performance')\n",
    "print('MAE:', mean_absolute_error(y_test, y_test_pred))\n",
    "print('RMSE:', np.sqrt(mean_squared_error(y_test, y_test_pred)))\n",
    "print('MSE:', mean_squared_error(y_test, y_test_pred))\n",
    "print('R^2:', r2_score(y_test, y_test_pred))"
   ]
  },
  {
   "cell_type": "markdown",
   "id": "71e5c47c-ce58-48df-a87a-167615a78524",
   "metadata": {
    "tags": []
   },
   "source": [
    "### Pipeline Model 1"
   ]
  },
  {
   "cell_type": "code",
   "execution_count": 10,
   "id": "7454afc4-d797-42e2-adc5-893eb9aea00e",
   "metadata": {},
   "outputs": [],
   "source": [
    "# Get features from original data set\n",
    "X_pipe = df[['horsepower', 'weight']]\n",
    "y_pipe = df['mpg']\n",
    "\n",
    "#Train test split\n",
    "X_pipe_train, X_pipe_test, y_pipe_train, y_pipe_test = train_test_split(X_pipe, y_pipe, test_size = 0.2, \n",
    "                                                                        random_state = 42)"
   ]
  },
  {
   "cell_type": "code",
   "execution_count": 11,
   "id": "49b02ac8-3723-4dec-82f1-881945cbb5a9",
   "metadata": {},
   "outputs": [
    {
     "name": "stdout",
     "output_type": "stream",
     "text": [
      "Pipeline 1 Model Train Performance\n",
      "Bias: [46.36665563]\n",
      "Score: 0.6983291042713098\n",
      "MAE: 3.3180603665679422\n",
      "RMSE: 4.3489798330389\n",
      "MSE: 18.913625588179062\n",
      "R^2: 0.6983291042713098\n",
      "\n",
      "Pipeline 1 Model Test Performance\n",
      "MAE: 3.1286426894126533\n",
      "RMSE: 3.8300395125447864\n",
      "MSE: 14.669202667654304\n",
      "R^2: 0.7271680690680923\n"
     ]
    }
   ],
   "source": [
    "# Imputer with median strategy\n",
    "imp_med = SimpleImputer(missing_values = np.nan, strategy = 'median')\n",
    "\n",
    "# Standard scalar\n",
    "scale = StandardScaler()\n",
    "\n",
    "# Linear regression\n",
    "lr_pipe = LinearRegression()\n",
    "\n",
    "# Create pipeline stages\n",
    "stages1 = [('imp_med', imp_med),\n",
    "          ('scale', scale),\n",
    "          ('lr_pipe', lr_pipe)]\n",
    "\n",
    "# Create and fit pipeline\n",
    "pipe1 = Pipeline(stages1)\n",
    "pipe1.fit(X_pipe_train.values, y_pipe_train.values)\n",
    "\n",
    "# Evaluate performance on train data\n",
    "y_train_pred1 = pipe1.predict(X_pipe_train.values)\n",
    "\n",
    "print('Pipeline 1 Model Train Performance')\n",
    "print('Bias:', pipe1.predict([[0, 0]]))\n",
    "print('Score:', pipe1.score(X_pipe_train.values, y_pipe_train.values))\n",
    "print('MAE:', mean_absolute_error(y_pipe_train.values, y_train_pred1))\n",
    "print('RMSE:', np.sqrt(mean_squared_error(y_pipe_train.values, y_train_pred1)))\n",
    "print('MSE:', mean_squared_error(y_pipe_train.values, y_train_pred1))\n",
    "print('R^2:', r2_score(y_pipe_train.values, y_train_pred1))\n",
    "print()\n",
    "\n",
    "# Evaluate performance on test data\n",
    "y_test_pred1 = pipe1.predict(X_pipe_test.values)\n",
    "\n",
    "print('Pipeline 1 Model Test Performance')\n",
    "print('MAE:', mean_absolute_error(y_pipe_test.values, y_test_pred1))\n",
    "print('RMSE:', np.sqrt(mean_squared_error(y_pipe_test.values, y_test_pred1)))\n",
    "print('MSE:', mean_squared_error(y_pipe_test.values, y_test_pred1))\n",
    "print('R^2:', r2_score(y_pipe_test.values, y_test_pred1))"
   ]
  },
  {
   "cell_type": "markdown",
   "id": "89344711-3b52-43de-898c-db55ffd95d19",
   "metadata": {
    "tags": []
   },
   "source": [
    "### Pipeline Model 2"
   ]
  },
  {
   "cell_type": "code",
   "execution_count": 12,
   "id": "eb95207e-d17e-4958-bb53-e24b784a85c4",
   "metadata": {},
   "outputs": [
    {
     "name": "stdout",
     "output_type": "stream",
     "text": [
      "Pipeline 2 Model Train Performance\n",
      "Bias: [58.99122203]\n",
      "Score: 0.7388254707108981\n",
      "MAE: 2.977255278111605\n",
      "RMSE: 4.046561057129744\n",
      "MSE: 16.37465638907899\n",
      "R^2: 0.7388254707108981\n",
      "\n",
      "Pipeline 2 Model Test Performance\n",
      "MAE: 2.7290610901574226\n",
      "RMSE: 3.4738349399634396\n",
      "MSE: 12.067529190110793\n",
      "R^2: 0.7755564930754641\n"
     ]
    }
   ],
   "source": [
    "# Imputer with mean strategy\n",
    "imp_mean = SimpleImputer(missing_values = np.nan, strategy = 'mean')\n",
    "\n",
    "# Polynomial Features with degree = 3\n",
    "poly3 = PolynomialFeatures(degree = 3, include_bias = False)\n",
    "\n",
    "# Standard Scaler and Linear Regression models used from pipeline 1\n",
    "\n",
    "# Define stages\n",
    "stages2 = [('imp_mean', imp_mean),\n",
    "           ('poly3', poly3),\n",
    "           ('scale', scale),\n",
    "           ('lr_pipe', lr_pipe)]\n",
    "\n",
    "# Create and fit pipeline\n",
    "pipe2 = Pipeline(stages2)\n",
    "pipe2.fit(X_pipe_train.values, y_pipe_train.values)\n",
    "\n",
    "# Evaluate performance on training data\n",
    "y_train_pred2 = pipe2.predict(X_pipe_train.values)\n",
    "\n",
    "print('Pipeline 2 Model Train Performance')\n",
    "print('Bias:', pipe2.predict([[0, 0]]))\n",
    "print('Score:', pipe2.score(X_pipe_train.values, y_pipe_train.values))\n",
    "print('MAE:', mean_absolute_error(y_pipe_train.values, y_train_pred2))\n",
    "print('RMSE:', np.sqrt(mean_squared_error(y_pipe_train.values, y_train_pred2)))\n",
    "print('MSE:', mean_squared_error(y_pipe_train.values, y_train_pred2))\n",
    "print('R^2:', r2_score(y_pipe_train.values, y_train_pred2))\n",
    "print()\n",
    "\n",
    "# Evaluate performance on test data\n",
    "y_test_pred2 = pipe2.predict(X_pipe_test.values)\n",
    "\n",
    "print('Pipeline 2 Model Test Performance')\n",
    "print('MAE:', mean_absolute_error(y_pipe_test.values, y_test_pred2))\n",
    "print('RMSE:', np.sqrt(mean_squared_error(y_pipe_test.values, y_test_pred2)))\n",
    "print('MSE:', mean_squared_error(y_pipe_test.values, y_test_pred2))\n",
    "print('R^2:', r2_score(y_pipe_test.values, y_test_pred2))"
   ]
  },
  {
   "cell_type": "markdown",
   "id": "67b8a265-cde5-4f14-b9f0-3bb6e32fda2a",
   "metadata": {},
   "source": [
    "### Comparison\n",
    "\n",
    "| Model | Training Features | RMSE Train | R2 Train | RMSE Test | R2 Test |\n",
    "|:---|:---|:---|:---|:---|:---|\n",
    "|Linear Regression|Horsepower, Weight|4.24|71.50|4.22|65.14|\n",
    "|Pipeline 1|Horsepower, Weight|4.35|69.83|3.83|72.72|\n",
    "|Pipeline 2|Horsepower, Weight|4.05|73.88|3.47|77.56|"
   ]
  },
  {
   "cell_type": "code",
   "execution_count": null,
   "id": "26e1b565-8879-4ac9-b78e-79b8d549a0f6",
   "metadata": {},
   "outputs": [],
   "source": []
  }
 ],
 "metadata": {
  "kernelspec": {
   "display_name": "Python 3 (ipykernel)",
   "language": "python",
   "name": "python3"
  },
  "language_info": {
   "codemirror_mode": {
    "name": "ipython",
    "version": 3
   },
   "file_extension": ".py",
   "mimetype": "text/x-python",
   "name": "python",
   "nbconvert_exporter": "python",
   "pygments_lexer": "ipython3",
   "version": "3.9.12"
  }
 },
 "nbformat": 4,
 "nbformat_minor": 5
}
